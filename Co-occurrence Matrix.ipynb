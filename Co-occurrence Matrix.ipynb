{
 "cells": [
  {
   "cell_type": "markdown",
   "metadata": {},
   "source": [
    "## Statistical Properties of Co-occurrence Matrix\n",
    "\n",
    "[Miyamoto 2008](http://www.inf.ethz.ch/personal/markusp/teaching/18-799B-CMU-spring05/material/eizan-tad.pdf) describes computation of a number of statistical properties of the co-occurrence matrix first, followed by computation of the Haralick texture features.\n",
    "\n",
    "$R = \\sum_{i=1}^{N_g} \\sum_{j=1}^{N_g} P(i,j)$ = sum of all elements of co-occurrence frequency matrix\n",
    "\n",
    "$p(i,j) = \\frac {P(i,j)}{R}$ = co-occurence probability matrix\n",
    "\n",
    "$p_x(i) = \\sum_{j=1}^{N_g} p(i,j)$ = $i^{th}$ entry in the marginal-probability matrix obtained by summing the rows of $p(i,j)$.\n",
    "\n",
    "$p_y(j) = \\sum_{i=1}^{N_g} p(i,j)$ = $j^{th}$ entry in the marginal-probability matrix obtained by summing the columns of $p(i,j)$.                                            "
   ]
  }
 ],
 "metadata": {
  "kernelspec": {
   "display_name": "R",
   "language": "R",
   "name": "ir"
  },
  "language_info": {
   "codemirror_mode": "r",
   "file_extension": ".r",
   "mimetype": "text/x-r-source",
   "name": "R",
   "pygments_lexer": "r",
   "version": "3.1.3"
  }
 },
 "nbformat": 4,
 "nbformat_minor": 0
}
